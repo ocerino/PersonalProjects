{
 "cells": [
  {
   "cell_type": "markdown",
   "metadata": {},
   "source": [
    "### Python L1 Mini Assignment Robert Real Rico "
   ]
  },
  {
   "cell_type": "markdown",
   "metadata": {},
   "source": [
    "### Question 1:\n",
    "There are 5280 feet in a mile. Write a Python statement that \n",
    "calculates and prints the number of feet in 100 miles \n",
    "(remember to first assign the given values as variables)."
   ]
  },
  {
   "cell_type": "code",
   "execution_count": 6,
   "metadata": {},
   "outputs": [
    {
     "name": "stdout",
     "output_type": "stream",
     "text": [
      "528000\n"
     ]
    }
   ],
   "source": [
    "num_of_feet_in_mile=5280\n",
    "num_of_miles=100\n",
    "distance_in_feet=num_of_feet_in_mile*num_of_miles\n",
    "print(distance_in_feet)"
   ]
  },
  {
   "cell_type": "markdown",
   "metadata": {},
   "source": [
    "### Question 2: \n",
    "The perimeter of a rectangle is 2w+2h, where w and h are \n",
    "the lengths of its sides. Write a Python statement that \n",
    "calculates and prints the length in inches of the perimeter of a \n",
    "rectangle with sides of length 10 and 5 inches."
   ]
  },
  {
   "cell_type": "code",
   "execution_count": 7,
   "metadata": {},
   "outputs": [
    {
     "name": "stdout",
     "output_type": "stream",
     "text": [
      "30\n"
     ]
    }
   ],
   "source": [
    "rec_length= 10\n",
    "rect_width=5\n",
    "rec_perimeter=(2*rec_length)+(2*rect_width)\n",
    "print(rec_perimeter)"
   ]
  },
  {
   "cell_type": "markdown",
   "metadata": {},
   "source": [
    "### Question 3:\n",
    "Given p dollars, the future value of this money when compounded\n",
    "yearly at a rate of r percent interest for y years is \n",
    "p(1+ r/100)^y. Write a Python statement that calculates and prints\n",
    "the value of 1000 dollars compounded at 7 percent interest rate \n",
    "for 10 years. Note Python uses ** and not ^ for exponentiation."
   ]
  },
  {
   "cell_type": "code",
   "execution_count": 13,
   "metadata": {},
   "outputs": [
    {
     "name": "stdout",
     "output_type": "stream",
     "text": [
      "1967.1513572895665\n"
     ]
    }
   ],
   "source": [
    "p=1000 #This is for dollars\n",
    "r=7 #This is for rate\n",
    "y=10 #This is for the years \n",
    "money_value=p*(1+(r/100))**y\n",
    "print(money_value)"
   ]
  },
  {
   "cell_type": "markdown",
   "metadata": {},
   "source": [
    "### Question 4:\n",
    "Write a single Python statement that combines the three strings \"My name is\", \"Thomas\" and \n",
    "\"Bayes\" (plus a couple of other small strings with spaces) into one larger string \"My name is Thomas \n",
    "Bayes.\" and prints the result. "
   ]
  },
  {
   "cell_type": "code",
   "execution_count": 14,
   "metadata": {},
   "outputs": [
    {
     "name": "stdout",
     "output_type": "stream",
     "text": [
      "My name is Thomas Bayes\n"
     ]
    }
   ],
   "source": [
    "string1=\"My name is\"\n",
    "string2=\"Thomas\"\n",
    "string3=\"Bayes\"\n",
    "final_string=string1+\" \"+string2+\" \"+string3\n",
    "print(final_string)"
   ]
  },
  {
   "cell_type": "markdown",
   "metadata": {},
   "source": [
    "### Question 5: \n",
    "Write a Python expression to create the statement \"Thomas Bayes was 59 years old.\" from the \n",
    "string \"Thomas Bayes\" and the number 59 and then prints the result (Hint: First assign the 59 to a \n",
    "variable called age, then use the f\" \" to format the string."
   ]
  },
  {
   "cell_type": "code",
   "execution_count": 18,
   "metadata": {},
   "outputs": [
    {
     "name": "stdout",
     "output_type": "stream",
     "text": [
      "Thomas Bayes was 59 years old\n",
      "Thomas Bayes was 59 years old\n"
     ]
    }
   ],
   "source": [
    "string1=\"Thomas Bayes\"\n",
    "age=59\n",
    "print(string1+\" was \"+str(age)+ \" years old\")\n",
    "print(f\"{string1} was {age} years old\")#formated String"
   ]
  },
  {
   "cell_type": "markdown",
   "metadata": {},
   "source": [
    "### Querstion 6: \n",
    "The distance between two points (x0, y0) and (x1, y1) is ((x0-x1)^2 + (y0-y1)^2)^0.5. Write a Python \n",
    "statement that calculates and prints the distance between the points (2, 2) and (5,6). First, use a \n",
    "single line of code to assign (multiple assignments) the points to the variables x0, y0 and x1, y1. \n",
    "Then return a sentence that says \"The distance between (2,2) and (5,6) is 5.0\" using a formatted \n",
    "string."
   ]
  },
  {
   "cell_type": "code",
   "execution_count": 23,
   "metadata": {},
   "outputs": [
    {
     "name": "stdout",
     "output_type": "stream",
     "text": [
      "The distance between (2,2) and (5,6) is  5.000000\n",
      "The distance between (2,2) and (5,6) is 5.00\n"
     ]
    }
   ],
   "source": [
    "x0=2\n",
    "y0=2\n",
    "x1=5\n",
    "y1=6\n",
    "distance_btwn_points=((x0-x1)**2+ (y0-y1)**2)**.5\n",
    "dist_formated=\"{:.2f}\".format(distance_btwn_points)\n",
    "print('%s %f' %(\"The distance between (2,2) and (5,6) is \",distance_btwn_points))\n",
    "print(\"The distance between (2,2) and (5,6) is \"+dist_formated)\n",
    "\n"
   ]
  },
  {
   "cell_type": "markdown",
   "metadata": {},
   "source": [
    "### Question 7: \n",
    "Use the input function to collect the name, age, favorite ice cream flavor, and favorite movie of a \n",
    "user and store these values in variables with appropriate or recognizable variable names."
   ]
  },
  {
   "cell_type": "code",
   "execution_count": 20,
   "metadata": {},
   "outputs": [
    {
     "name": "stdin",
     "output_type": "stream",
     "text": [
      "Enter Your Name Robert \n",
      "Enter Your age 21\n",
      "Enter Your favorite ice cream flavor Chocolate\n",
      "Enter You favorite Movie Fast 5\n"
     ]
    },
    {
     "name": "stdout",
     "output_type": "stream",
     "text": [
      "Hi Robert  Let's go to the shop and get some Chocolate ice cream. Afterwards lets go watch the Fast 5 movie. Did you say you are 21? Wow, I am 21 too!\n"
     ]
    }
   ],
   "source": [
    "def user_input():\n",
    "    name=input(\"Enter Your Name\")\n",
    "    age=input(\"Enter Your age\")\n",
    "    fav_ice_cream=input(\"Enter Your favorite ice cream flavor\")\n",
    "    fav_movie=input(\"Enter You favorite Movie\")\n",
    "    print(\"Hi \"+str(name)+ \" Let's go to the shop and get some \"+str(fav_ice_cream)+\" ice cream. Afterwards lets go watch the \"+str(fav_movie)+\" movie. Did you say you are \"+str(age)+\"? Wow, I am \"+str(age)+\" too!\")\n",
    "\n",
    "user_input()"
   ]
  },
  {
   "cell_type": "code",
   "execution_count": null,
   "metadata": {},
   "outputs": [],
   "source": []
  }
 ],
 "metadata": {
  "kernelspec": {
   "display_name": "Python 3",
   "language": "python",
   "name": "python3"
  },
  "language_info": {
   "codemirror_mode": {
    "name": "ipython",
    "version": 3
   },
   "file_extension": ".py",
   "mimetype": "text/x-python",
   "name": "python",
   "nbconvert_exporter": "python",
   "pygments_lexer": "ipython3",
   "version": "3.8.5"
  }
 },
 "nbformat": 4,
 "nbformat_minor": 4
}
