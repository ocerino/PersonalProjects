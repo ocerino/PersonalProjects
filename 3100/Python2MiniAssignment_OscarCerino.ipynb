{
 "cells": [
  {
   "cell_type": "markdown",
   "id": "f37d9a6e-2be3-4970-9a75-e032b59f24da",
   "metadata": {},
   "source": [
    "### PYTHON 2 Mini Assignment - Oscar Cerino"
   ]
  },
  {
   "cell_type": "markdown",
   "id": "976e8cb9-1b4d-4c78-bf7a-69ab225248f3",
   "metadata": {},
   "source": [
    "### Question 1:\n",
    "Create the code to ask the user and store in\n",
    "variables their first name and last name. Then display\n",
    "\"Hello, Kellie Keeling\" with their name inserted."
   ]
  },
  {
   "cell_type": "code",
   "execution_count": 3,
   "id": "558b6895-f084-4ca4-9f1a-75aa1fde4190",
   "metadata": {},
   "outputs": [
    {
     "name": "stdin",
     "output_type": "stream",
     "text": [
      "Enter your first name oscar\n",
      "Enter your last name cerino\n"
     ]
    },
    {
     "name": "stdout",
     "output_type": "stream",
     "text": [
      "Hello, oscar cerino\n"
     ]
    }
   ],
   "source": [
    "first_name = input(\"Enter your first name\")\n",
    "last_name = input(\"Enter your last name\")\n",
    "print(\"Hello, \" + first_name + \" \" + last_name)"
   ]
  },
  {
   "cell_type": "markdown",
   "id": "cdf0158c-32c6-480b-93a7-fbace05af7ab",
   "metadata": {},
   "source": [
    "### Question 2:\n",
    "Create the code to ask the user to enter 2 numbers.  Store these in variables.  Then test the numbers to determine which is the highest or if they are the same.  Output a message that labels each number accordingly (\"6 is the highest number and 3 is the lowest number\" or \"the numbers are the same\"). Remember that input() returns a string even if you type in a number.\n",
    "Test with:  5.2 and 4, 9 and 13, and 4 and 4 and copy the output into one or more cells."
   ]
  },
  {
   "cell_type": "code",
   "execution_count": 7,
   "id": "b1019a76-32c3-4abb-bdc6-98fa1c5bf464",
   "metadata": {},
   "outputs": [
    {
     "name": "stdin",
     "output_type": "stream",
     "text": [
      "Enter a number 4.9\n",
      "Enter a another number 3\n"
     ]
    },
    {
     "name": "stdout",
     "output_type": "stream",
     "text": [
      "4.9  is greater than   3.0\n"
     ]
    }
   ],
   "source": [
    "num1 = input(\"Enter a number\")\n",
    "num1 = float(num1)\n",
    "num2 = input(\"Enter a another number\")\n",
    "num2 = float(num2)\n",
    "if num1 > num2:\n",
    "    print(f\"{num1}  is greater than   {num2}\")\n",
    "elif num1 < num2:\n",
    "    print(f\"{num1}  is less than   {num2}\")\n",
    "else:\n",
    "    print(f\"{num1}  is equal to  {num2}\")"
   ]
  },
  {
   "cell_type": "markdown",
   "id": "428dfdcd-ba6f-4fc5-8999-5e3f335b3769",
   "metadata": {},
   "source": [
    "### Question 3:\n",
    "Create the code to have the user enter a temperature.  Ask them if it is Celsius or Fahrenheit.  Convert the temperature to the other measure and output a friendly message that contains the original entry and the new converted temperature.\n",
    "°C x 9/5 + 32 = °F.\n",
    "(°F - 32) x 5/9 = °C\n"
   ]
  },
  {
   "cell_type": "code",
   "execution_count": null,
   "id": "68b0b64d-c8f6-48f8-920b-1e781cc94ae9",
   "metadata": {},
   "outputs": [],
   "source": []
  },
  {
   "cell_type": "markdown",
   "id": "41987f57-2c12-4642-825f-d4feb9add655",
   "metadata": {},
   "source": [
    "### Question 4:\n",
    "(A) Create the code to print out all the odd numbers between 1 and 25 using a for loop."
   ]
  },
  {
   "cell_type": "code",
   "execution_count": 11,
   "id": "d565159d-1503-4cb3-9b6e-b529da19797e",
   "metadata": {},
   "outputs": [
    {
     "name": "stdout",
     "output_type": "stream",
     "text": [
      "1\n",
      "3\n",
      "5\n",
      "7\n",
      "9\n",
      "11\n",
      "13\n",
      "15\n",
      "17\n",
      "19\n",
      "21\n",
      "23\n",
      "25\n"
     ]
    }
   ],
   "source": [
    "i = 1\n",
    "for i in range(26):\n",
    "    if i%2 == 1:\n",
    "        print(i)\n",
    "    i = i+1"
   ]
  },
  {
   "cell_type": "markdown",
   "id": "2bd8d05e-3dd1-4569-addb-04b2f4518e77",
   "metadata": {},
   "source": [
    "### Question 4:\n",
    "(B) Rework the previous code to print out all the odd numbers between 1 and 25 using a while loop."
   ]
  },
  {
   "cell_type": "code",
   "execution_count": 14,
   "id": "43298996-ad09-44f5-a871-be92e09bfc05",
   "metadata": {},
   "outputs": [
    {
     "name": "stdout",
     "output_type": "stream",
     "text": [
      "1\n",
      "3\n",
      "5\n",
      "7\n",
      "9\n",
      "11\n",
      "13\n",
      "15\n",
      "17\n",
      "19\n",
      "21\n",
      "23\n",
      "25\n"
     ]
    }
   ],
   "source": [
    "i=1\n",
    "while i<26:\n",
    "    if i%2 == 1:\n",
    "        print(i)\n",
    "    i =i+1"
   ]
  },
  {
   "cell_type": "markdown",
   "id": "a2f4b3fb-330f-4df9-b53c-c1a4d85daac9",
   "metadata": {},
   "source": [
    "### Question 5:\n",
    "Create the code to have the user enter a grade.  If the grade is 90 to 100, tell them they get an A. If the score is 80 to 89, tell them they get a B.  Etc.  The final range should be <=59 is an F. Test multiple times so that you get all possible grades. Copy the test output into one or more cells."
   ]
  },
  {
   "cell_type": "code",
   "execution_count": null,
   "id": "207db451-649e-43b7-9839-a1308a5ea24d",
   "metadata": {},
   "outputs": [],
   "source": []
  }
 ],
 "metadata": {
  "kernelspec": {
   "display_name": "Python 3",
   "language": "python",
   "name": "python3"
  },
  "language_info": {
   "codemirror_mode": {
    "name": "ipython",
    "version": 3
   },
   "file_extension": ".py",
   "mimetype": "text/x-python",
   "name": "python",
   "nbconvert_exporter": "python",
   "pygments_lexer": "ipython3",
   "version": "3.8.8"
  }
 },
 "nbformat": 4,
 "nbformat_minor": 5
}
