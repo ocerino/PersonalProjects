{
 "cells": [
  {
   "cell_type": "markdown",
   "metadata": {},
   "source": [
    "Python 6 - Mini Assignment"
   ]
  },
  {
   "cell_type": "code",
   "execution_count": 33,
   "metadata": {},
   "outputs": [],
   "source": [
    "# import packages\n",
    "import pandas as pd\n",
    "import matplotlib.pyplot as plt\n",
    "import numpy as np\n",
    "\n",
    "%matplotlib inline "
   ]
  },
  {
   "cell_type": "code",
   "execution_count": 34,
   "metadata": {},
   "outputs": [
    {
     "data": {
      "text/html": [
       "<div>\n",
       "<style scoped>\n",
       "    .dataframe tbody tr th:only-of-type {\n",
       "        vertical-align: middle;\n",
       "    }\n",
       "\n",
       "    .dataframe tbody tr th {\n",
       "        vertical-align: top;\n",
       "    }\n",
       "\n",
       "    .dataframe thead th {\n",
       "        text-align: right;\n",
       "    }\n",
       "</style>\n",
       "<table border=\"1\" class=\"dataframe\">\n",
       "  <thead>\n",
       "    <tr style=\"text-align: right;\">\n",
       "      <th></th>\n",
       "      <th>Customer</th>\n",
       "      <th>Type</th>\n",
       "      <th>Flavor</th>\n",
       "      <th>Age</th>\n",
       "      <th>Sales</th>\n",
       "      <th>Store</th>\n",
       "    </tr>\n",
       "  </thead>\n",
       "  <tbody>\n",
       "    <tr>\n",
       "      <th>0</th>\n",
       "      <td>1</td>\n",
       "      <td>Adult</td>\n",
       "      <td>Chocolate</td>\n",
       "      <td>45.0</td>\n",
       "      <td>4.25</td>\n",
       "      <td>Greeley</td>\n",
       "    </tr>\n",
       "    <tr>\n",
       "      <th>1</th>\n",
       "      <td>2</td>\n",
       "      <td>Child</td>\n",
       "      <td>Vanilla</td>\n",
       "      <td>5.0</td>\n",
       "      <td>2.90</td>\n",
       "      <td>Greeley</td>\n",
       "    </tr>\n",
       "    <tr>\n",
       "      <th>2</th>\n",
       "      <td>3</td>\n",
       "      <td>Teenager</td>\n",
       "      <td>Chocolate</td>\n",
       "      <td>14.0</td>\n",
       "      <td>3.10</td>\n",
       "      <td>Parker</td>\n",
       "    </tr>\n",
       "    <tr>\n",
       "      <th>3</th>\n",
       "      <td>4</td>\n",
       "      <td>Adult</td>\n",
       "      <td>Vanilla</td>\n",
       "      <td>23.0</td>\n",
       "      <td>3.25</td>\n",
       "      <td>Denver</td>\n",
       "    </tr>\n",
       "    <tr>\n",
       "      <th>4</th>\n",
       "      <td>5</td>\n",
       "      <td>Adult</td>\n",
       "      <td>Chocolate</td>\n",
       "      <td>47.0</td>\n",
       "      <td>4.10</td>\n",
       "      <td>Denver</td>\n",
       "    </tr>\n",
       "    <tr>\n",
       "      <th>5</th>\n",
       "      <td>6</td>\n",
       "      <td>Teenager</td>\n",
       "      <td>Chocolate</td>\n",
       "      <td>16.0</td>\n",
       "      <td>4.10</td>\n",
       "      <td>Greeley</td>\n",
       "    </tr>\n",
       "    <tr>\n",
       "      <th>6</th>\n",
       "      <td>7</td>\n",
       "      <td>Adult</td>\n",
       "      <td>Chocolate</td>\n",
       "      <td>41.0</td>\n",
       "      <td>3.50</td>\n",
       "      <td>Parker</td>\n",
       "    </tr>\n",
       "    <tr>\n",
       "      <th>7</th>\n",
       "      <td>8</td>\n",
       "      <td>Child</td>\n",
       "      <td>Vanilla</td>\n",
       "      <td>4.0</td>\n",
       "      <td>3.00</td>\n",
       "      <td>Greeley</td>\n",
       "    </tr>\n",
       "    <tr>\n",
       "      <th>8</th>\n",
       "      <td>9</td>\n",
       "      <td>Teenager</td>\n",
       "      <td>Chocolate</td>\n",
       "      <td>17.0</td>\n",
       "      <td>4.00</td>\n",
       "      <td>Parker</td>\n",
       "    </tr>\n",
       "    <tr>\n",
       "      <th>9</th>\n",
       "      <td>10</td>\n",
       "      <td>Child</td>\n",
       "      <td>Vanilla</td>\n",
       "      <td>6.0</td>\n",
       "      <td>2.50</td>\n",
       "      <td>Greeley</td>\n",
       "    </tr>\n",
       "    <tr>\n",
       "      <th>10</th>\n",
       "      <td>11</td>\n",
       "      <td>Child</td>\n",
       "      <td>Chocolate</td>\n",
       "      <td>6.0</td>\n",
       "      <td>3.75</td>\n",
       "      <td>Parker</td>\n",
       "    </tr>\n",
       "    <tr>\n",
       "      <th>11</th>\n",
       "      <td>12</td>\n",
       "      <td>Teenager</td>\n",
       "      <td>Vanilla</td>\n",
       "      <td>11.0</td>\n",
       "      <td>3.00</td>\n",
       "      <td>Denver</td>\n",
       "    </tr>\n",
       "    <tr>\n",
       "      <th>12</th>\n",
       "      <td>13</td>\n",
       "      <td>Teenager</td>\n",
       "      <td>Vanilla</td>\n",
       "      <td>15.0</td>\n",
       "      <td>NaN</td>\n",
       "      <td>Parker</td>\n",
       "    </tr>\n",
       "    <tr>\n",
       "      <th>13</th>\n",
       "      <td>14</td>\n",
       "      <td>Adult</td>\n",
       "      <td>Vanilla</td>\n",
       "      <td>72.0</td>\n",
       "      <td>3.75</td>\n",
       "      <td>Denver</td>\n",
       "    </tr>\n",
       "    <tr>\n",
       "      <th>14</th>\n",
       "      <td>15</td>\n",
       "      <td>NaN</td>\n",
       "      <td>Vanilla</td>\n",
       "      <td>NaN</td>\n",
       "      <td>3.25</td>\n",
       "      <td>Denver</td>\n",
       "    </tr>\n",
       "    <tr>\n",
       "      <th>15</th>\n",
       "      <td>16</td>\n",
       "      <td>Adult</td>\n",
       "      <td>Chocolate</td>\n",
       "      <td>45.0</td>\n",
       "      <td>4.25</td>\n",
       "      <td>Denver</td>\n",
       "    </tr>\n",
       "    <tr>\n",
       "      <th>16</th>\n",
       "      <td>17</td>\n",
       "      <td>Child</td>\n",
       "      <td>Vanilla</td>\n",
       "      <td>5.0</td>\n",
       "      <td>2.90</td>\n",
       "      <td>Denver</td>\n",
       "    </tr>\n",
       "    <tr>\n",
       "      <th>17</th>\n",
       "      <td>18</td>\n",
       "      <td>Teenager</td>\n",
       "      <td>Chocolate</td>\n",
       "      <td>14.0</td>\n",
       "      <td>3.15</td>\n",
       "      <td>Parker</td>\n",
       "    </tr>\n",
       "    <tr>\n",
       "      <th>18</th>\n",
       "      <td>19</td>\n",
       "      <td>Adult</td>\n",
       "      <td>Vanilla</td>\n",
       "      <td>36.0</td>\n",
       "      <td>4.00</td>\n",
       "      <td>Denver</td>\n",
       "    </tr>\n",
       "    <tr>\n",
       "      <th>19</th>\n",
       "      <td>20</td>\n",
       "      <td>Adult</td>\n",
       "      <td>Chocolate</td>\n",
       "      <td>47.0</td>\n",
       "      <td>4.30</td>\n",
       "      <td>Denver</td>\n",
       "    </tr>\n",
       "    <tr>\n",
       "      <th>20</th>\n",
       "      <td>21</td>\n",
       "      <td>Adult</td>\n",
       "      <td>Chocolate</td>\n",
       "      <td>57.0</td>\n",
       "      <td>4.10</td>\n",
       "      <td>Parker</td>\n",
       "    </tr>\n",
       "    <tr>\n",
       "      <th>21</th>\n",
       "      <td>22</td>\n",
       "      <td>Adult</td>\n",
       "      <td>Chocolate</td>\n",
       "      <td>34.0</td>\n",
       "      <td>3.75</td>\n",
       "      <td>Parker</td>\n",
       "    </tr>\n",
       "    <tr>\n",
       "      <th>22</th>\n",
       "      <td>23</td>\n",
       "      <td>Teenager</td>\n",
       "      <td>Chocolate</td>\n",
       "      <td>16.0</td>\n",
       "      <td>4.10</td>\n",
       "      <td>Denver</td>\n",
       "    </tr>\n",
       "    <tr>\n",
       "      <th>23</th>\n",
       "      <td>24</td>\n",
       "      <td>Adult</td>\n",
       "      <td>Chocolate</td>\n",
       "      <td>41.0</td>\n",
       "      <td>3.75</td>\n",
       "      <td>Denver</td>\n",
       "    </tr>\n",
       "    <tr>\n",
       "      <th>24</th>\n",
       "      <td>25</td>\n",
       "      <td>Child</td>\n",
       "      <td>Vanilla</td>\n",
       "      <td>4.0</td>\n",
       "      <td>NaN</td>\n",
       "      <td>Parker</td>\n",
       "    </tr>\n",
       "    <tr>\n",
       "      <th>25</th>\n",
       "      <td>26</td>\n",
       "      <td>Teenager</td>\n",
       "      <td>Chocolate</td>\n",
       "      <td>17.0</td>\n",
       "      <td>4.00</td>\n",
       "      <td>Parker</td>\n",
       "    </tr>\n",
       "    <tr>\n",
       "      <th>26</th>\n",
       "      <td>27</td>\n",
       "      <td>Child</td>\n",
       "      <td>Vanilla</td>\n",
       "      <td>6.0</td>\n",
       "      <td>2.50</td>\n",
       "      <td>Greeley</td>\n",
       "    </tr>\n",
       "    <tr>\n",
       "      <th>27</th>\n",
       "      <td>28</td>\n",
       "      <td>Child</td>\n",
       "      <td>Chocolate</td>\n",
       "      <td>6.0</td>\n",
       "      <td>3.75</td>\n",
       "      <td>Parker</td>\n",
       "    </tr>\n",
       "    <tr>\n",
       "      <th>28</th>\n",
       "      <td>29</td>\n",
       "      <td>Teenager</td>\n",
       "      <td>Vanilla</td>\n",
       "      <td>15.0</td>\n",
       "      <td>3.00</td>\n",
       "      <td>Parker</td>\n",
       "    </tr>\n",
       "    <tr>\n",
       "      <th>29</th>\n",
       "      <td>30</td>\n",
       "      <td>Child</td>\n",
       "      <td>Chocolate</td>\n",
       "      <td>6.0</td>\n",
       "      <td>3.75</td>\n",
       "      <td>Denver</td>\n",
       "    </tr>\n",
       "    <tr>\n",
       "      <th>30</th>\n",
       "      <td>31</td>\n",
       "      <td>NaN</td>\n",
       "      <td>Vanilla</td>\n",
       "      <td>NaN</td>\n",
       "      <td>3.00</td>\n",
       "      <td>Parker</td>\n",
       "    </tr>\n",
       "    <tr>\n",
       "      <th>31</th>\n",
       "      <td>32</td>\n",
       "      <td>Teenager</td>\n",
       "      <td>Vanilla</td>\n",
       "      <td>15.0</td>\n",
       "      <td>2.90</td>\n",
       "      <td>Parker</td>\n",
       "    </tr>\n",
       "    <tr>\n",
       "      <th>32</th>\n",
       "      <td>33</td>\n",
       "      <td>Adult</td>\n",
       "      <td>Vanilla</td>\n",
       "      <td>60.0</td>\n",
       "      <td>4.00</td>\n",
       "      <td>Greeley</td>\n",
       "    </tr>\n",
       "    <tr>\n",
       "      <th>33</th>\n",
       "      <td>34</td>\n",
       "      <td>Adult</td>\n",
       "      <td>Vanilla</td>\n",
       "      <td>28.0</td>\n",
       "      <td>NaN</td>\n",
       "      <td>Denver</td>\n",
       "    </tr>\n",
       "    <tr>\n",
       "      <th>34</th>\n",
       "      <td>35</td>\n",
       "      <td>Adult</td>\n",
       "      <td>Chocolate</td>\n",
       "      <td>40.0</td>\n",
       "      <td>4.25</td>\n",
       "      <td>Greeley</td>\n",
       "    </tr>\n",
       "    <tr>\n",
       "      <th>35</th>\n",
       "      <td>36</td>\n",
       "      <td>Child</td>\n",
       "      <td>Vanilla</td>\n",
       "      <td>5.0</td>\n",
       "      <td>2.90</td>\n",
       "      <td>Parker</td>\n",
       "    </tr>\n",
       "    <tr>\n",
       "      <th>36</th>\n",
       "      <td>37</td>\n",
       "      <td>Teenager</td>\n",
       "      <td>Chocolate</td>\n",
       "      <td>14.0</td>\n",
       "      <td>3.15</td>\n",
       "      <td>Parker</td>\n",
       "    </tr>\n",
       "  </tbody>\n",
       "</table>\n",
       "</div>"
      ],
      "text/plain": [
       "    Customer      Type     Flavor   Age  Sales    Store\n",
       "0          1     Adult  Chocolate  45.0   4.25  Greeley\n",
       "1          2     Child    Vanilla   5.0   2.90  Greeley\n",
       "2          3  Teenager  Chocolate  14.0   3.10   Parker\n",
       "3          4     Adult    Vanilla  23.0   3.25   Denver\n",
       "4          5     Adult  Chocolate  47.0   4.10   Denver\n",
       "5          6  Teenager  Chocolate  16.0   4.10  Greeley\n",
       "6          7     Adult  Chocolate  41.0   3.50   Parker\n",
       "7          8     Child    Vanilla   4.0   3.00  Greeley\n",
       "8          9  Teenager  Chocolate  17.0   4.00   Parker\n",
       "9         10     Child    Vanilla   6.0   2.50  Greeley\n",
       "10        11     Child  Chocolate   6.0   3.75   Parker\n",
       "11        12  Teenager    Vanilla  11.0   3.00   Denver\n",
       "12        13  Teenager    Vanilla  15.0    NaN   Parker\n",
       "13        14     Adult    Vanilla  72.0   3.75   Denver\n",
       "14        15       NaN    Vanilla   NaN   3.25   Denver\n",
       "15        16     Adult  Chocolate  45.0   4.25   Denver\n",
       "16        17     Child    Vanilla   5.0   2.90   Denver\n",
       "17        18  Teenager  Chocolate  14.0   3.15   Parker\n",
       "18        19     Adult    Vanilla  36.0   4.00   Denver\n",
       "19        20     Adult  Chocolate  47.0   4.30   Denver\n",
       "20        21     Adult  Chocolate  57.0   4.10   Parker\n",
       "21        22     Adult  Chocolate  34.0   3.75   Parker\n",
       "22        23  Teenager  Chocolate  16.0   4.10   Denver\n",
       "23        24     Adult  Chocolate  41.0   3.75   Denver\n",
       "24        25     Child    Vanilla   4.0    NaN   Parker\n",
       "25        26  Teenager  Chocolate  17.0   4.00   Parker\n",
       "26        27     Child    Vanilla   6.0   2.50  Greeley\n",
       "27        28     Child  Chocolate   6.0   3.75   Parker\n",
       "28        29  Teenager    Vanilla  15.0   3.00   Parker\n",
       "29        30     Child  Chocolate   6.0   3.75   Denver\n",
       "30        31       NaN    Vanilla   NaN   3.00   Parker\n",
       "31        32  Teenager    Vanilla  15.0   2.90   Parker\n",
       "32        33     Adult    Vanilla  60.0   4.00  Greeley\n",
       "33        34     Adult    Vanilla  28.0    NaN   Denver\n",
       "34        35     Adult  Chocolate  40.0   4.25  Greeley\n",
       "35        36     Child    Vanilla   5.0   2.90   Parker\n",
       "36        37  Teenager  Chocolate  14.0   3.15   Parker"
      ]
     },
     "execution_count": 34,
     "metadata": {},
     "output_type": "execute_result"
    }
   ],
   "source": [
    "#Load the IceCreamDatawMissing.csv\n",
    "df_IC = pd.read_csv(\"./IceCreamDatawMissing.csv\")\n",
    "df_IC"
   ]
  },
  {
   "cell_type": "code",
   "execution_count": 35,
   "metadata": {},
   "outputs": [
    {
     "data": {
      "text/plain": [
       "<AxesSubplot:>"
      ]
     },
     "execution_count": 35,
     "metadata": {},
     "output_type": "execute_result"
    },
    {
     "data": {
      "image/png": "[encoded data removed]",
      "text/plain": [
       "<Figure size 432x288 with 1 Axes>"
      ]
     },
     "metadata": {
      "needs_background": "light"
     },
     "output_type": "display_data"
    }
   ],
   "source": [
    "#Create a histogram of Sales\n",
    "df_IC[\"Sales\"].hist()"
   ]
  },
  {
   "cell_type": "code",
   "execution_count": 36,
   "metadata": {},
   "outputs": [
    {
     "data": {
      "image/png": "[encoded data removed]",
      "text/plain": [
       "<Figure size 432x288 with 1 Axes>"
      ]
     },
     "metadata": {
      "needs_background": "light"
     },
     "output_type": "display_data"
    }
   ],
   "source": [
    "#Create a histogram of Age. Add a nice title and x and y axis labels. Make sure there is no extra text at the top.\n",
    "plt.hist(df_IC['Age'])\n",
    "plt.title('Histogram of Age')\n",
    "plt.xlabel('Age')\n",
    "plt.ylabel('Frequency')\n",
    "plt.show() "
   ]
  },
  {
   "cell_type": "code",
   "execution_count": 44,
   "metadata": {},
   "outputs": [
    {
     "data": {
      "image/png": "[encoded data removed]",
      "text/plain": [
       "<Figure size 432x288 with 1 Axes>"
      ]
     },
     "metadata": {
      "needs_background": "light"
     },
     "output_type": "display_data"
    }
   ],
   "source": [
    "#Create a barplot comparing the counts of Type. Include nice  titles and labels.\n",
    "type_cnts = pd.DataFrame(df_IC['Type'].value_counts())\n",
    "type_cnts.plot.bar()\n",
    "plt.title('Counts of Type')\n",
    "plt.xlabel('Type')\n",
    "plt.ylabel('Frequency')\n",
    "plt.show() "
   ]
  },
  {
   "cell_type": "code",
   "execution_count": 45,
   "metadata": {},
   "outputs": [
    {
     "data": {
      "image/png": "[encoded data removed]",
      "text/plain": [
       "<Figure size 432x288 with 1 Axes>"
      ]
     },
     "metadata": {
      "needs_background": "light"
     },
     "output_type": "display_data"
    }
   ],
   "source": [
    "#Create a grouped bar graph showing counts by type of Flavor (Hint: first create a crosstab table)\n",
    "cross_tab=pd.crosstab(df_IC.Type,df_IC.Flavor)\n",
    "cross_tab.plot.bar()\n",
    "plt.title('Counts by Type of Flavor')\n",
    "plt.xlabel('Type')\n",
    "plt.ylabel('Frequency')\n",
    "plt.show()"
   ]
  },
  {
   "cell_type": "code",
   "execution_count": 28,
   "metadata": {},
   "outputs": [
    {
     "data": {
      "text/plain": [
       "2"
      ]
     },
     "execution_count": 28,
     "metadata": {},
     "output_type": "execute_result"
    }
   ],
   "source": [
    "#How many values are missing for the Type column?\n",
    "df_IC.Type.isnull().sum()"
   ]
  },
  {
   "cell_type": "code",
   "execution_count": 46,
   "metadata": {},
   "outputs": [
    {
     "data": {
      "text/plain": [
       "Index(['Customer', 'Type', 'Flavor', 'Age', 'Sales', 'Store'], dtype='object')"
      ]
     },
     "execution_count": 46,
     "metadata": {},
     "output_type": "execute_result"
    }
   ],
   "source": [
    "#Store the column names in a list\n",
    "colList = df_IC.columns\n",
    "colList"
   ]
  },
  {
   "cell_type": "code",
   "execution_count": 55,
   "metadata": {},
   "outputs": [
    {
     "name": "stdout",
     "output_type": "stream",
     "text": [
      "Number of Missing Values: Customer: 0 Type: 2 Flavor: 0 Age: 2 Sales: 3 Store: 0 \n"
     ]
    }
   ],
   "source": [
    "# Create a sentence that states how many of each column are missing by using a loop.\n",
    "# (e.g., Number of Missing Values: Customer: 0 Type: 2 Flavor: 0 Age: 2 Sales: 3 Store: 0)\n",
    "tempStr = \"Number of Missing Values: \"\n",
    "for c in df_IC:\n",
    "    tempStr = tempStr + c + \": \" + str(df_IC[c].isna().sum()) + \" \"\n",
    "print(tempStr)"
   ]
  },
  {
   "cell_type": "code",
   "execution_count": 21,
   "metadata": {},
   "outputs": [],
   "source": [
    "# Create a function that accepts a DataFrame with quantitative columns and output histograms for each column\n"
   ]
  },
  {
   "cell_type": "code",
   "execution_count": 22,
   "metadata": {},
   "outputs": [],
   "source": [
    "# Create a function that accepts a DataFrame with qualitative columns and output bar graphs of counts for each column\n"
   ]
  },
  {
   "cell_type": "code",
   "execution_count": null,
   "metadata": {},
   "outputs": [],
   "source": [
    "\n",
    "    "
   ]
  }
 ],
 "metadata": {
  "kernelspec": {
   "display_name": "Python 3",
   "language": "python",
   "name": "python3"
  },
  "language_info": {
   "codemirror_mode": {
    "name": "ipython",
    "version": 3
   },
   "file_extension": ".py",
   "mimetype": "text/x-python",
   "name": "python",
   "nbconvert_exporter": "python",
   "pygments_lexer": "ipython3",
   "version": "3.8.8"
  }
 },
 "nbformat": 4,
 "nbformat_minor": 4
}
