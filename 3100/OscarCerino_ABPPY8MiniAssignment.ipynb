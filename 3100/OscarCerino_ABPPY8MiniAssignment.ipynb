{
 "cells": [
  {
   "cell_type": "markdown",
   "metadata": {},
   "source": [
    "PYTHON 8 - Mini Assignment - Oscar Cerino"
   ]
  },
  {
   "cell_type": "code",
   "execution_count": 12,
   "metadata": {},
   "outputs": [],
   "source": [
    "# Add needed imports\n",
    "from statsmodels.formula.api import ols\n",
    "import numpy as np\n",
    "import pandas as pd\n",
    "import StatTests"
   ]
  },
  {
   "cell_type": "code",
   "execution_count": 2,
   "metadata": {},
   "outputs": [
    {
     "data": {
      "text/html": [
       "<div>\n",
       "<style scoped>\n",
       "    .dataframe tbody tr th:only-of-type {\n",
       "        vertical-align: middle;\n",
       "    }\n",
       "\n",
       "    .dataframe tbody tr th {\n",
       "        vertical-align: top;\n",
       "    }\n",
       "\n",
       "    .dataframe thead th {\n",
       "        text-align: right;\n",
       "    }\n",
       "</style>\n",
       "<table border=\"1\" class=\"dataframe\">\n",
       "  <thead>\n",
       "    <tr style=\"text-align: right;\">\n",
       "      <th></th>\n",
       "      <th>Store</th>\n",
       "      <th>Fri</th>\n",
       "      <th>Sat</th>\n",
       "      <th>Sun</th>\n",
       "    </tr>\n",
       "  </thead>\n",
       "  <tbody>\n",
       "    <tr>\n",
       "      <th>0</th>\n",
       "      <td>Parker</td>\n",
       "      <td>560</td>\n",
       "      <td>573</td>\n",
       "      <td>580</td>\n",
       "    </tr>\n",
       "    <tr>\n",
       "      <th>1</th>\n",
       "      <td>Denver</td>\n",
       "      <td>820</td>\n",
       "      <td>940</td>\n",
       "      <td>913</td>\n",
       "    </tr>\n",
       "    <tr>\n",
       "      <th>2</th>\n",
       "      <td>Littleton</td>\n",
       "      <td>591</td>\n",
       "      <td>740</td>\n",
       "      <td>650</td>\n",
       "    </tr>\n",
       "    <tr>\n",
       "      <th>3</th>\n",
       "      <td>Aurora</td>\n",
       "      <td>914</td>\n",
       "      <td>1062</td>\n",
       "      <td>910</td>\n",
       "    </tr>\n",
       "    <tr>\n",
       "      <th>4</th>\n",
       "      <td>Erie</td>\n",
       "      <td>450</td>\n",
       "      <td>476</td>\n",
       "      <td>398</td>\n",
       "    </tr>\n",
       "  </tbody>\n",
       "</table>\n",
       "</div>"
      ],
      "text/plain": [
       "       Store  Fri   Sat  Sun\n",
       "0     Parker  560   573  580\n",
       "1     Denver  820   940  913\n",
       "2  Littleton  591   740  650\n",
       "3     Aurora  914  1062  910\n",
       "4       Erie  450   476  398"
      ]
     },
     "execution_count": 2,
     "metadata": {},
     "output_type": "execute_result"
    }
   ],
   "source": [
    "#1 Write DataFrames to a csv and an Excel file\n",
    "# Read in the PY8IceCreamData file Sheet StoreData and store in a DataFrame. View the head.\n",
    "df_SD = pd.read_excel(r'PY8IceCreamData.xlsx',sheet_name='StoreData')\n",
    "df_SD.head()"
   ]
  },
  {
   "cell_type": "code",
   "execution_count": 3,
   "metadata": {},
   "outputs": [
    {
     "data": {
      "text/html": [
       "<div>\n",
       "<style scoped>\n",
       "    .dataframe tbody tr th:only-of-type {\n",
       "        vertical-align: middle;\n",
       "    }\n",
       "\n",
       "    .dataframe tbody tr th {\n",
       "        vertical-align: top;\n",
       "    }\n",
       "\n",
       "    .dataframe thead th {\n",
       "        text-align: right;\n",
       "    }\n",
       "</style>\n",
       "<table border=\"1\" class=\"dataframe\">\n",
       "  <thead>\n",
       "    <tr style=\"text-align: right;\">\n",
       "      <th></th>\n",
       "      <th>Type</th>\n",
       "      <th>Flavor</th>\n",
       "      <th>Age</th>\n",
       "      <th>PurchLast6</th>\n",
       "      <th>Sales</th>\n",
       "    </tr>\n",
       "  </thead>\n",
       "  <tbody>\n",
       "    <tr>\n",
       "      <th>0</th>\n",
       "      <td>Adult</td>\n",
       "      <td>Chocolate</td>\n",
       "      <td>45</td>\n",
       "      <td>15</td>\n",
       "      <td>4.25</td>\n",
       "    </tr>\n",
       "    <tr>\n",
       "      <th>1</th>\n",
       "      <td>Child</td>\n",
       "      <td>Vanilla</td>\n",
       "      <td>5</td>\n",
       "      <td>7</td>\n",
       "      <td>2.90</td>\n",
       "    </tr>\n",
       "    <tr>\n",
       "      <th>2</th>\n",
       "      <td>Teenager</td>\n",
       "      <td>Chocolate</td>\n",
       "      <td>14</td>\n",
       "      <td>12</td>\n",
       "      <td>3.10</td>\n",
       "    </tr>\n",
       "    <tr>\n",
       "      <th>3</th>\n",
       "      <td>Adult</td>\n",
       "      <td>Vanilla</td>\n",
       "      <td>23</td>\n",
       "      <td>11</td>\n",
       "      <td>3.25</td>\n",
       "    </tr>\n",
       "    <tr>\n",
       "      <th>4</th>\n",
       "      <td>Adult</td>\n",
       "      <td>Chocolate</td>\n",
       "      <td>47</td>\n",
       "      <td>14</td>\n",
       "      <td>4.10</td>\n",
       "    </tr>\n",
       "  </tbody>\n",
       "</table>\n",
       "</div>"
      ],
      "text/plain": [
       "       Type     Flavor  Age  PurchLast6  Sales\n",
       "0     Adult  Chocolate   45          15   4.25\n",
       "1     Child    Vanilla    5           7   2.90\n",
       "2  Teenager  Chocolate   14          12   3.10\n",
       "3     Adult    Vanilla   23          11   3.25\n",
       "4     Adult  Chocolate   47          14   4.10"
      ]
     },
     "execution_count": 3,
     "metadata": {},
     "output_type": "execute_result"
    }
   ],
   "source": [
    "# Read in the PY8IceCreamData file Sheet IceCreamData and store in a DataFrame. View the head.\n",
    "df_IC = pd.read_excel(r'PY8IceCreamData.xlsx',sheet_name='IceCreamData')\n",
    "df_IC.head()"
   ]
  },
  {
   "cell_type": "code",
   "execution_count": 5,
   "metadata": {},
   "outputs": [],
   "source": [
    "# Write only the columns Type, Age, and Sales from the IceCreamData sheet to a csv file. \n",
    "# Do not include the index\n",
    "df_CSV = df_IC[[\"Type\",\"Age\",\"Sales\"]]\n",
    "df_CSV.to_csv(r'IceCreamData.csv')"
   ]
  },
  {
   "cell_type": "code",
   "execution_count": 6,
   "metadata": {},
   "outputs": [],
   "source": [
    "# Write only the columns Type, Age, and Sales from the IceCreamData sheet to an Excel file. \n",
    "# Do not include the index\n",
    "df_CSV = df_IC[[\"Type\",\"Age\",\"Sales\"]]\n",
    "df_CSV.to_excel(r'IceCreamData.xlsx')\n"
   ]
  },
  {
   "cell_type": "code",
   "execution_count": null,
   "metadata": {},
   "outputs": [],
   "source": []
  },
  {
   "cell_type": "code",
   "execution_count": 7,
   "metadata": {},
   "outputs": [],
   "source": [
    "#2 Use xlwings to perform the following steps\n",
    "# Open the PY8IceCreamData.xlsx workbook \n",
    "import xlwings as xw\n",
    "xw.apps.add()\n",
    "wb1 = xw.Book(r'PY8IceCreamData.xlsx')\n"
   ]
  },
  {
   "cell_type": "code",
   "execution_count": 8,
   "metadata": {},
   "outputs": [],
   "source": [
    "#Create a sheet object to reference IceCreamData\n",
    "sht_IC = wb1.sheets['IceCreamData']\n"
   ]
  },
  {
   "cell_type": "code",
   "execution_count": 9,
   "metadata": {},
   "outputs": [],
   "source": [
    "#Add a New sheet and create an object for it. Name the sheet 'Summary Data'\n",
    "sht_new = wb1.sheets.add()\n",
    "sht_new.name = 'SummaryData'"
   ]
  },
  {
   "cell_type": "code",
   "execution_count": 10,
   "metadata": {},
   "outputs": [],
   "source": [
    "# Create the column headers as shown\n",
    "sht_new.range('A1').value = 'Age'\n",
    "sht_new.range('B1').value = 'PurchLast6'\n",
    "sht_new.range('C1').value = 'Sales'\n"
   ]
  },
  {
   "cell_type": "code",
   "execution_count": 14,
   "metadata": {},
   "outputs": [],
   "source": [
    "# Add averages for each column\n",
    "sht_new.range('A2').value = round(np.array(sht_IC.range('C2:C38').value).mean(),2)\n",
    "sht_new.range('B2').value = round(np.array(sht_IC.range('D2:D38').value).mean(),2)\n",
    "sht_new.range('C2').value = round(np.array(sht_IC.range('E2:E38').value).mean(),2)"
   ]
  },
  {
   "cell_type": "code",
   "execution_count": null,
   "metadata": {},
   "outputs": [],
   "source": [
    "# Create a new DataFrame that has the values from the Type column in the IceCreamData sheet\n",
    "df_type = df_IC[\"Type\"]\n",
    "df_type"
   ]
  },
  {
   "cell_type": "code",
   "execution_count": null,
   "metadata": {},
   "outputs": [],
   "source": [
    "# Create a Series of value counts from this new column of data in the DataFrame\n",
    "df_type.value_counts()\n"
   ]
  },
  {
   "cell_type": "code",
   "execution_count": null,
   "metadata": {},
   "outputs": [],
   "source": [
    "# Create a Series called flavor_cnts with index values Chocolate, Vanilla initialized with 0s\n"
   ]
  },
  {
   "cell_type": "code",
   "execution_count": null,
   "metadata": {},
   "outputs": [],
   "source": [
    "# Print just the Chocolate value from the Series\n"
   ]
  },
  {
   "cell_type": "code",
   "execution_count": null,
   "metadata": {},
   "outputs": [],
   "source": [
    "# Print the first Flavor value from the IceCreamData sheet (should be 'Chocolate')\n",
    "# using the range((r,c)).value syntax\n"
   ]
  },
  {
   "cell_type": "code",
   "execution_count": null,
   "metadata": {},
   "outputs": [],
   "source": [
    "# Use a Loop to go through each value in the IceCreamData sheet column Flavor and create\n",
    "# counts of vanilla and chocolate that you store in the Series. Note the end result should\n",
    "# look like the following\n",
    "\n"
   ]
  },
  {
   "cell_type": "code",
   "execution_count": null,
   "metadata": {},
   "outputs": [],
   "source": [
    "# Overwrite the workbook with a new name PY8MiniAssignSummary.xlsx\n",
    "\n"
   ]
  }
 ],
 "metadata": {
  "kernelspec": {
   "display_name": "Python 3",
   "language": "python",
   "name": "python3"
  },
  "language_info": {
   "codemirror_mode": {
    "name": "ipython",
    "version": 3
   },
   "file_extension": ".py",
   "mimetype": "text/x-python",
   "name": "python",
   "nbconvert_exporter": "python",
   "pygments_lexer": "ipython3",
   "version": "3.8.8"
  }
 },
 "nbformat": 4,
 "nbformat_minor": 4
}
