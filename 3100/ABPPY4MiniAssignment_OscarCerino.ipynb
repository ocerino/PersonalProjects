{
 "cells": [
  {
   "cell_type": "markdown",
   "metadata": {},
   "source": [
    "## Python 4 - Mini Assignment Oscar Cerino"
   ]
  },
  {
   "cell_type": "markdown",
   "metadata": {},
   "source": [
    "### 1. Suppose you have the following pandas Series that includes a missing value."
   ]
  },
  {
   "cell_type": "code",
   "execution_count": 144,
   "metadata": {},
   "outputs": [
    {
     "data": {
      "text/plain": [
       "Bob      74.0\n",
       "Toni     63.0\n",
       "Ervin     NaN\n",
       "Toby     72.0\n",
       "Min      68.0\n",
       "Name: Height, dtype: float64"
      ]
     },
     "execution_count": 144,
     "metadata": {},
     "output_type": "execute_result"
    }
   ],
   "source": [
    "import pandas as pd\n",
    "data = pd.Series([74,63,None, 72, 68], \n",
    "                 name='Height', \n",
    "                 index=['Bob','Toni','Ervin','Toby','Min'])\n",
    "data"
   ]
  },
  {
   "cell_type": "code",
   "execution_count": 145,
   "metadata": {},
   "outputs": [
    {
     "name": "stdout",
     "output_type": "stream",
     "text": [
      "Height\n"
     ]
    }
   ],
   "source": [
    "# View the name of the Series\n",
    "print(data.name)"
   ]
  },
  {
   "cell_type": "code",
   "execution_count": 146,
   "metadata": {},
   "outputs": [
    {
     "name": "stdout",
     "output_type": "stream",
     "text": [
      "Index(['Bob', 'Toni', 'Ervin', 'Toby', 'Min'], dtype='object')\n"
     ]
    }
   ],
   "source": [
    "# View the index of the Series\n",
    "print(data.index)"
   ]
  },
  {
   "cell_type": "code",
   "execution_count": 147,
   "metadata": {},
   "outputs": [
    {
     "name": "stdout",
     "output_type": "stream",
     "text": [
      "Ervin\n"
     ]
    }
   ],
   "source": [
    "# View the index of the 3rd person\n",
    "print(data.index[2])"
   ]
  },
  {
   "cell_type": "code",
   "execution_count": 148,
   "metadata": {},
   "outputs": [
    {
     "name": "stdout",
     "output_type": "stream",
     "text": [
      "Toby\n"
     ]
    }
   ],
   "source": [
    "# View the value of the 4th person\n",
    "print(data.index[3])"
   ]
  },
  {
   "cell_type": "code",
   "execution_count": 149,
   "metadata": {},
   "outputs": [
    {
     "name": "stdout",
     "output_type": "stream",
     "text": [
      "Bob     74.0\n",
      "Toni    63.0\n",
      "Toby    72.0\n",
      "Min     68.0\n",
      "Name: Height, dtype: float64\n"
     ]
    }
   ],
   "source": [
    "# View the nonmissing values only\n",
    "print(data.dropna())"
   ]
  },
  {
   "cell_type": "code",
   "execution_count": 150,
   "metadata": {},
   "outputs": [
    {
     "name": "stdout",
     "output_type": "stream",
     "text": [
      "69.25\n"
     ]
    }
   ],
   "source": [
    "# Find the average height of this family\n",
    "print(data.mean())"
   ]
  },
  {
   "cell_type": "markdown",
   "metadata": {},
   "source": [
    "### 2. We have data in the file IceCreamData.csv (from last class Mini Assignment) about our customers."
   ]
  },
  {
   "cell_type": "code",
   "execution_count": 151,
   "metadata": {},
   "outputs": [
    {
     "data": {
      "text/html": [
       "<div>\n",
       "<style scoped>\n",
       "    .dataframe tbody tr th:only-of-type {\n",
       "        vertical-align: middle;\n",
       "    }\n",
       "\n",
       "    .dataframe tbody tr th {\n",
       "        vertical-align: top;\n",
       "    }\n",
       "\n",
       "    .dataframe thead th {\n",
       "        text-align: right;\n",
       "    }\n",
       "</style>\n",
       "<table border=\"1\" class=\"dataframe\">\n",
       "  <thead>\n",
       "    <tr style=\"text-align: right;\">\n",
       "      <th></th>\n",
       "      <th>Customer</th>\n",
       "      <th>Type</th>\n",
       "      <th>Flavor</th>\n",
       "      <th>Age</th>\n",
       "      <th>Sales</th>\n",
       "      <th>Store</th>\n",
       "    </tr>\n",
       "  </thead>\n",
       "  <tbody>\n",
       "    <tr>\n",
       "      <th>0</th>\n",
       "      <td>1</td>\n",
       "      <td>Adult</td>\n",
       "      <td>Chocolate</td>\n",
       "      <td>45</td>\n",
       "      <td>4.25</td>\n",
       "      <td>Greeley</td>\n",
       "    </tr>\n",
       "    <tr>\n",
       "      <th>1</th>\n",
       "      <td>2</td>\n",
       "      <td>Child</td>\n",
       "      <td>Vanilla</td>\n",
       "      <td>5</td>\n",
       "      <td>2.90</td>\n",
       "      <td>Greeley</td>\n",
       "    </tr>\n",
       "    <tr>\n",
       "      <th>2</th>\n",
       "      <td>3</td>\n",
       "      <td>Teenager</td>\n",
       "      <td>Chocolate</td>\n",
       "      <td>14</td>\n",
       "      <td>3.10</td>\n",
       "      <td>Parker</td>\n",
       "    </tr>\n",
       "    <tr>\n",
       "      <th>3</th>\n",
       "      <td>4</td>\n",
       "      <td>Adult</td>\n",
       "      <td>Vanilla</td>\n",
       "      <td>23</td>\n",
       "      <td>3.25</td>\n",
       "      <td>Denver</td>\n",
       "    </tr>\n",
       "    <tr>\n",
       "      <th>4</th>\n",
       "      <td>5</td>\n",
       "      <td>Adult</td>\n",
       "      <td>Chocolate</td>\n",
       "      <td>47</td>\n",
       "      <td>4.10</td>\n",
       "      <td>Denver</td>\n",
       "    </tr>\n",
       "    <tr>\n",
       "      <th>5</th>\n",
       "      <td>6</td>\n",
       "      <td>Teenager</td>\n",
       "      <td>Chocolate</td>\n",
       "      <td>16</td>\n",
       "      <td>4.10</td>\n",
       "      <td>Greeley</td>\n",
       "    </tr>\n",
       "    <tr>\n",
       "      <th>6</th>\n",
       "      <td>7</td>\n",
       "      <td>Adult</td>\n",
       "      <td>Chocolate</td>\n",
       "      <td>41</td>\n",
       "      <td>3.50</td>\n",
       "      <td>Parker</td>\n",
       "    </tr>\n",
       "    <tr>\n",
       "      <th>7</th>\n",
       "      <td>8</td>\n",
       "      <td>Child</td>\n",
       "      <td>Vanilla</td>\n",
       "      <td>4</td>\n",
       "      <td>3.00</td>\n",
       "      <td>Greeley</td>\n",
       "    </tr>\n",
       "    <tr>\n",
       "      <th>8</th>\n",
       "      <td>9</td>\n",
       "      <td>Teenager</td>\n",
       "      <td>Chocolate</td>\n",
       "      <td>17</td>\n",
       "      <td>4.00</td>\n",
       "      <td>Parker</td>\n",
       "    </tr>\n",
       "    <tr>\n",
       "      <th>9</th>\n",
       "      <td>10</td>\n",
       "      <td>Child</td>\n",
       "      <td>Vanilla</td>\n",
       "      <td>6</td>\n",
       "      <td>2.50</td>\n",
       "      <td>Greeley</td>\n",
       "    </tr>\n",
       "    <tr>\n",
       "      <th>10</th>\n",
       "      <td>11</td>\n",
       "      <td>Child</td>\n",
       "      <td>Chocolate</td>\n",
       "      <td>6</td>\n",
       "      <td>3.75</td>\n",
       "      <td>Parker</td>\n",
       "    </tr>\n",
       "    <tr>\n",
       "      <th>11</th>\n",
       "      <td>12</td>\n",
       "      <td>Teenager</td>\n",
       "      <td>Vanilla</td>\n",
       "      <td>11</td>\n",
       "      <td>3.00</td>\n",
       "      <td>Denver</td>\n",
       "    </tr>\n",
       "    <tr>\n",
       "      <th>12</th>\n",
       "      <td>13</td>\n",
       "      <td>Teenager</td>\n",
       "      <td>Vanilla</td>\n",
       "      <td>15</td>\n",
       "      <td>NaN</td>\n",
       "      <td>Parker</td>\n",
       "    </tr>\n",
       "    <tr>\n",
       "      <th>13</th>\n",
       "      <td>14</td>\n",
       "      <td>Adult</td>\n",
       "      <td>Vanilla</td>\n",
       "      <td>72</td>\n",
       "      <td>3.75</td>\n",
       "      <td>Denver</td>\n",
       "    </tr>\n",
       "    <tr>\n",
       "      <th>14</th>\n",
       "      <td>15</td>\n",
       "      <td>Adult</td>\n",
       "      <td>Vanilla</td>\n",
       "      <td>28</td>\n",
       "      <td>3.25</td>\n",
       "      <td>Denver</td>\n",
       "    </tr>\n",
       "    <tr>\n",
       "      <th>15</th>\n",
       "      <td>16</td>\n",
       "      <td>Adult</td>\n",
       "      <td>Chocolate</td>\n",
       "      <td>45</td>\n",
       "      <td>4.25</td>\n",
       "      <td>Denver</td>\n",
       "    </tr>\n",
       "    <tr>\n",
       "      <th>16</th>\n",
       "      <td>17</td>\n",
       "      <td>Child</td>\n",
       "      <td>Vanilla</td>\n",
       "      <td>5</td>\n",
       "      <td>2.90</td>\n",
       "      <td>Denver</td>\n",
       "    </tr>\n",
       "    <tr>\n",
       "      <th>17</th>\n",
       "      <td>18</td>\n",
       "      <td>Teenager</td>\n",
       "      <td>Chocolate</td>\n",
       "      <td>14</td>\n",
       "      <td>3.15</td>\n",
       "      <td>Parker</td>\n",
       "    </tr>\n",
       "    <tr>\n",
       "      <th>18</th>\n",
       "      <td>19</td>\n",
       "      <td>Adult</td>\n",
       "      <td>Vanilla</td>\n",
       "      <td>36</td>\n",
       "      <td>4.00</td>\n",
       "      <td>Denver</td>\n",
       "    </tr>\n",
       "    <tr>\n",
       "      <th>19</th>\n",
       "      <td>20</td>\n",
       "      <td>Adult</td>\n",
       "      <td>Chocolate</td>\n",
       "      <td>47</td>\n",
       "      <td>4.30</td>\n",
       "      <td>Denver</td>\n",
       "    </tr>\n",
       "    <tr>\n",
       "      <th>20</th>\n",
       "      <td>21</td>\n",
       "      <td>Adult</td>\n",
       "      <td>Chocolate</td>\n",
       "      <td>57</td>\n",
       "      <td>4.10</td>\n",
       "      <td>Parker</td>\n",
       "    </tr>\n",
       "    <tr>\n",
       "      <th>21</th>\n",
       "      <td>22</td>\n",
       "      <td>Adult</td>\n",
       "      <td>Chocolate</td>\n",
       "      <td>34</td>\n",
       "      <td>3.75</td>\n",
       "      <td>Parker</td>\n",
       "    </tr>\n",
       "    <tr>\n",
       "      <th>22</th>\n",
       "      <td>23</td>\n",
       "      <td>Teenager</td>\n",
       "      <td>Chocolate</td>\n",
       "      <td>16</td>\n",
       "      <td>4.10</td>\n",
       "      <td>Denver</td>\n",
       "    </tr>\n",
       "    <tr>\n",
       "      <th>23</th>\n",
       "      <td>24</td>\n",
       "      <td>Adult</td>\n",
       "      <td>Chocolate</td>\n",
       "      <td>41</td>\n",
       "      <td>3.75</td>\n",
       "      <td>Denver</td>\n",
       "    </tr>\n",
       "    <tr>\n",
       "      <th>24</th>\n",
       "      <td>25</td>\n",
       "      <td>Child</td>\n",
       "      <td>Vanilla</td>\n",
       "      <td>4</td>\n",
       "      <td>NaN</td>\n",
       "      <td>Parker</td>\n",
       "    </tr>\n",
       "    <tr>\n",
       "      <th>25</th>\n",
       "      <td>26</td>\n",
       "      <td>Teenager</td>\n",
       "      <td>Chocolate</td>\n",
       "      <td>17</td>\n",
       "      <td>4.00</td>\n",
       "      <td>Parker</td>\n",
       "    </tr>\n",
       "    <tr>\n",
       "      <th>26</th>\n",
       "      <td>27</td>\n",
       "      <td>Child</td>\n",
       "      <td>Vanilla</td>\n",
       "      <td>6</td>\n",
       "      <td>2.50</td>\n",
       "      <td>Greeley</td>\n",
       "    </tr>\n",
       "    <tr>\n",
       "      <th>27</th>\n",
       "      <td>28</td>\n",
       "      <td>Child</td>\n",
       "      <td>Chocolate</td>\n",
       "      <td>6</td>\n",
       "      <td>3.75</td>\n",
       "      <td>Parker</td>\n",
       "    </tr>\n",
       "    <tr>\n",
       "      <th>28</th>\n",
       "      <td>29</td>\n",
       "      <td>Teenager</td>\n",
       "      <td>Vanilla</td>\n",
       "      <td>15</td>\n",
       "      <td>3.00</td>\n",
       "      <td>Parker</td>\n",
       "    </tr>\n",
       "    <tr>\n",
       "      <th>29</th>\n",
       "      <td>30</td>\n",
       "      <td>Child</td>\n",
       "      <td>Chocolate</td>\n",
       "      <td>6</td>\n",
       "      <td>3.75</td>\n",
       "      <td>Denver</td>\n",
       "    </tr>\n",
       "    <tr>\n",
       "      <th>30</th>\n",
       "      <td>31</td>\n",
       "      <td>Teenager</td>\n",
       "      <td>Vanilla</td>\n",
       "      <td>15</td>\n",
       "      <td>3.00</td>\n",
       "      <td>Parker</td>\n",
       "    </tr>\n",
       "    <tr>\n",
       "      <th>31</th>\n",
       "      <td>32</td>\n",
       "      <td>Teenager</td>\n",
       "      <td>Vanilla</td>\n",
       "      <td>15</td>\n",
       "      <td>2.90</td>\n",
       "      <td>Parker</td>\n",
       "    </tr>\n",
       "    <tr>\n",
       "      <th>32</th>\n",
       "      <td>33</td>\n",
       "      <td>Adult</td>\n",
       "      <td>Vanilla</td>\n",
       "      <td>60</td>\n",
       "      <td>4.00</td>\n",
       "      <td>Greeley</td>\n",
       "    </tr>\n",
       "    <tr>\n",
       "      <th>33</th>\n",
       "      <td>34</td>\n",
       "      <td>Adult</td>\n",
       "      <td>Vanilla</td>\n",
       "      <td>28</td>\n",
       "      <td>3.25</td>\n",
       "      <td>Denver</td>\n",
       "    </tr>\n",
       "    <tr>\n",
       "      <th>34</th>\n",
       "      <td>35</td>\n",
       "      <td>Adult</td>\n",
       "      <td>Chocolate</td>\n",
       "      <td>40</td>\n",
       "      <td>4.25</td>\n",
       "      <td>Greeley</td>\n",
       "    </tr>\n",
       "    <tr>\n",
       "      <th>35</th>\n",
       "      <td>36</td>\n",
       "      <td>Child</td>\n",
       "      <td>Vanilla</td>\n",
       "      <td>5</td>\n",
       "      <td>2.90</td>\n",
       "      <td>Parker</td>\n",
       "    </tr>\n",
       "    <tr>\n",
       "      <th>36</th>\n",
       "      <td>37</td>\n",
       "      <td>Teenager</td>\n",
       "      <td>Chocolate</td>\n",
       "      <td>14</td>\n",
       "      <td>3.15</td>\n",
       "      <td>Parker</td>\n",
       "    </tr>\n",
       "  </tbody>\n",
       "</table>\n",
       "</div>"
      ],
      "text/plain": [
       "    Customer      Type     Flavor  Age  Sales    Store\n",
       "0          1     Adult  Chocolate   45   4.25  Greeley\n",
       "1          2     Child    Vanilla    5   2.90  Greeley\n",
       "2          3  Teenager  Chocolate   14   3.10   Parker\n",
       "3          4     Adult    Vanilla   23   3.25   Denver\n",
       "4          5     Adult  Chocolate   47   4.10   Denver\n",
       "5          6  Teenager  Chocolate   16   4.10  Greeley\n",
       "6          7     Adult  Chocolate   41   3.50   Parker\n",
       "7          8     Child    Vanilla    4   3.00  Greeley\n",
       "8          9  Teenager  Chocolate   17   4.00   Parker\n",
       "9         10     Child    Vanilla    6   2.50  Greeley\n",
       "10        11     Child  Chocolate    6   3.75   Parker\n",
       "11        12  Teenager    Vanilla   11   3.00   Denver\n",
       "12        13  Teenager    Vanilla   15    NaN   Parker\n",
       "13        14     Adult    Vanilla   72   3.75   Denver\n",
       "14        15     Adult    Vanilla   28   3.25   Denver\n",
       "15        16     Adult  Chocolate   45   4.25   Denver\n",
       "16        17     Child    Vanilla    5   2.90   Denver\n",
       "17        18  Teenager  Chocolate   14   3.15   Parker\n",
       "18        19     Adult    Vanilla   36   4.00   Denver\n",
       "19        20     Adult  Chocolate   47   4.30   Denver\n",
       "20        21     Adult  Chocolate   57   4.10   Parker\n",
       "21        22     Adult  Chocolate   34   3.75   Parker\n",
       "22        23  Teenager  Chocolate   16   4.10   Denver\n",
       "23        24     Adult  Chocolate   41   3.75   Denver\n",
       "24        25     Child    Vanilla    4    NaN   Parker\n",
       "25        26  Teenager  Chocolate   17   4.00   Parker\n",
       "26        27     Child    Vanilla    6   2.50  Greeley\n",
       "27        28     Child  Chocolate    6   3.75   Parker\n",
       "28        29  Teenager    Vanilla   15   3.00   Parker\n",
       "29        30     Child  Chocolate    6   3.75   Denver\n",
       "30        31  Teenager    Vanilla   15   3.00   Parker\n",
       "31        32  Teenager    Vanilla   15   2.90   Parker\n",
       "32        33     Adult    Vanilla   60   4.00  Greeley\n",
       "33        34     Adult    Vanilla   28   3.25   Denver\n",
       "34        35     Adult  Chocolate   40   4.25  Greeley\n",
       "35        36     Child    Vanilla    5   2.90   Parker\n",
       "36        37  Teenager  Chocolate   14   3.15   Parker"
      ]
     },
     "execution_count": 151,
     "metadata": {},
     "output_type": "execute_result"
    }
   ],
   "source": [
    "# Read in the data\n",
    "import pandas as pd\n",
    "df_IC = pd.read_csv('IceCreamData.csv') \n",
    "df_IC"
   ]
  },
  {
   "cell_type": "code",
   "execution_count": 152,
   "metadata": {},
   "outputs": [
    {
     "name": "stdout",
     "output_type": "stream",
     "text": [
      "Customer      int64\n",
      "Type         object\n",
      "Flavor       object\n",
      "Age           int64\n",
      "Sales       float64\n",
      "Store        object\n",
      "dtype: object\n"
     ]
    }
   ],
   "source": [
    "# View the types of the columns/variables\n",
    "print(df_IC.dtypes)"
   ]
  },
  {
   "cell_type": "code",
   "execution_count": 153,
   "metadata": {},
   "outputs": [
    {
     "data": {
      "text/plain": [
       "Customer     object\n",
       "Type         object\n",
       "Flavor       object\n",
       "Age           int64\n",
       "Sales       float64\n",
       "Store        object\n",
       "dtype: object"
      ]
     },
     "execution_count": 153,
     "metadata": {},
     "output_type": "execute_result"
    }
   ],
   "source": [
    "# The Customer column is actually an ID. We don't want to perform any numeric analysis on this column. \n",
    "# Change the type of the Customer column to be an object\n",
    "df_IC['Customer'] = df_IC['Customer'].astype(object)\n",
    "df_IC.dtypes"
   ]
  },
  {
   "cell_type": "code",
   "execution_count": 154,
   "metadata": {},
   "outputs": [
    {
     "data": {
      "text/plain": [
       "0    45\n",
       "1     5\n",
       "2    14\n",
       "3    23\n",
       "4    47\n",
       "Name: Age, dtype: int64"
      ]
     },
     "execution_count": 154,
     "metadata": {},
     "output_type": "execute_result"
    }
   ],
   "source": [
    "# View only the .head() of the Age column\n",
    "df_IC['Age'].head()"
   ]
  },
  {
   "cell_type": "code",
   "execution_count": 155,
   "metadata": {},
   "outputs": [
    {
     "data": {
      "text/plain": [
       "0       Adult\n",
       "1       Child\n",
       "2    Teenager\n",
       "3       Adult\n",
       "4       Adult\n",
       "Name: Type, dtype: object"
      ]
     },
     "execution_count": 155,
     "metadata": {},
     "output_type": "execute_result"
    }
   ],
   "source": [
    "# View only the .head() of the Type column\n",
    "df_IC['Type'].head()"
   ]
  },
  {
   "cell_type": "code",
   "execution_count": 156,
   "metadata": {},
   "outputs": [
    {
     "data": {
      "text/html": [
       "<div>\n",
       "<style scoped>\n",
       "    .dataframe tbody tr th:only-of-type {\n",
       "        vertical-align: middle;\n",
       "    }\n",
       "\n",
       "    .dataframe tbody tr th {\n",
       "        vertical-align: top;\n",
       "    }\n",
       "\n",
       "    .dataframe thead th {\n",
       "        text-align: right;\n",
       "    }\n",
       "</style>\n",
       "<table border=\"1\" class=\"dataframe\">\n",
       "  <thead>\n",
       "    <tr style=\"text-align: right;\">\n",
       "      <th></th>\n",
       "      <th>Type</th>\n",
       "      <th>Age</th>\n",
       "    </tr>\n",
       "  </thead>\n",
       "  <tbody>\n",
       "    <tr>\n",
       "      <th>32</th>\n",
       "      <td>Adult</td>\n",
       "      <td>60</td>\n",
       "    </tr>\n",
       "    <tr>\n",
       "      <th>33</th>\n",
       "      <td>Adult</td>\n",
       "      <td>28</td>\n",
       "    </tr>\n",
       "    <tr>\n",
       "      <th>34</th>\n",
       "      <td>Adult</td>\n",
       "      <td>40</td>\n",
       "    </tr>\n",
       "    <tr>\n",
       "      <th>35</th>\n",
       "      <td>Child</td>\n",
       "      <td>5</td>\n",
       "    </tr>\n",
       "    <tr>\n",
       "      <th>36</th>\n",
       "      <td>Teenager</td>\n",
       "      <td>14</td>\n",
       "    </tr>\n",
       "  </tbody>\n",
       "</table>\n",
       "</div>"
      ],
      "text/plain": [
       "        Type  Age\n",
       "32     Adult   60\n",
       "33     Adult   28\n",
       "34     Adult   40\n",
       "35     Child    5\n",
       "36  Teenager   14"
      ]
     },
     "execution_count": 156,
     "metadata": {},
     "output_type": "execute_result"
    }
   ],
   "source": [
    "# View only the .tail() of the Age and Type column (at the same time)\n",
    "df_IC[['Type', 'Age']].tail()"
   ]
  },
  {
   "cell_type": "code",
   "execution_count": 157,
   "metadata": {},
   "outputs": [
    {
     "data": {
      "text/html": [
       "<div>\n",
       "<style scoped>\n",
       "    .dataframe tbody tr th:only-of-type {\n",
       "        vertical-align: middle;\n",
       "    }\n",
       "\n",
       "    .dataframe tbody tr th {\n",
       "        vertical-align: top;\n",
       "    }\n",
       "\n",
       "    .dataframe thead th {\n",
       "        text-align: right;\n",
       "    }\n",
       "</style>\n",
       "<table border=\"1\" class=\"dataframe\">\n",
       "  <thead>\n",
       "    <tr style=\"text-align: right;\">\n",
       "      <th></th>\n",
       "      <th>Customer</th>\n",
       "      <th>Type</th>\n",
       "      <th>Flavor</th>\n",
       "      <th>Age</th>\n",
       "      <th>Sales</th>\n",
       "      <th>Store</th>\n",
       "    </tr>\n",
       "  </thead>\n",
       "  <tbody>\n",
       "    <tr>\n",
       "      <th>0</th>\n",
       "      <td>1</td>\n",
       "      <td>Adult</td>\n",
       "      <td>Chocolate</td>\n",
       "      <td>45</td>\n",
       "      <td>4.25</td>\n",
       "      <td>Greeley</td>\n",
       "    </tr>\n",
       "    <tr>\n",
       "      <th>3</th>\n",
       "      <td>4</td>\n",
       "      <td>Adult</td>\n",
       "      <td>Vanilla</td>\n",
       "      <td>23</td>\n",
       "      <td>3.25</td>\n",
       "      <td>Denver</td>\n",
       "    </tr>\n",
       "    <tr>\n",
       "      <th>4</th>\n",
       "      <td>5</td>\n",
       "      <td>Adult</td>\n",
       "      <td>Chocolate</td>\n",
       "      <td>47</td>\n",
       "      <td>4.10</td>\n",
       "      <td>Denver</td>\n",
       "    </tr>\n",
       "    <tr>\n",
       "      <th>6</th>\n",
       "      <td>7</td>\n",
       "      <td>Adult</td>\n",
       "      <td>Chocolate</td>\n",
       "      <td>41</td>\n",
       "      <td>3.50</td>\n",
       "      <td>Parker</td>\n",
       "    </tr>\n",
       "    <tr>\n",
       "      <th>13</th>\n",
       "      <td>14</td>\n",
       "      <td>Adult</td>\n",
       "      <td>Vanilla</td>\n",
       "      <td>72</td>\n",
       "      <td>3.75</td>\n",
       "      <td>Denver</td>\n",
       "    </tr>\n",
       "  </tbody>\n",
       "</table>\n",
       "</div>"
      ],
      "text/plain": [
       "   Customer   Type     Flavor  Age  Sales    Store\n",
       "0         1  Adult  Chocolate   45   4.25  Greeley\n",
       "3         4  Adult    Vanilla   23   3.25   Denver\n",
       "4         5  Adult  Chocolate   47   4.10   Denver\n",
       "6         7  Adult  Chocolate   41   3.50   Parker\n",
       "13       14  Adult    Vanilla   72   3.75   Denver"
      ]
     },
     "execution_count": 157,
     "metadata": {},
     "output_type": "execute_result"
    }
   ],
   "source": [
    "# View only the .head() of the table filtering for just the Adults\n",
    "df_IC[df_IC['Type']=='Adult'].head()"
   ]
  },
  {
   "cell_type": "code",
   "execution_count": 158,
   "metadata": {},
   "outputs": [
    {
     "data": {
      "text/html": [
       "<div>\n",
       "<style scoped>\n",
       "    .dataframe tbody tr th:only-of-type {\n",
       "        vertical-align: middle;\n",
       "    }\n",
       "\n",
       "    .dataframe tbody tr th {\n",
       "        vertical-align: top;\n",
       "    }\n",
       "\n",
       "    .dataframe thead th {\n",
       "        text-align: right;\n",
       "    }\n",
       "</style>\n",
       "<table border=\"1\" class=\"dataframe\">\n",
       "  <thead>\n",
       "    <tr style=\"text-align: right;\">\n",
       "      <th></th>\n",
       "      <th>Type</th>\n",
       "      <th>Age</th>\n",
       "    </tr>\n",
       "  </thead>\n",
       "  <tbody>\n",
       "    <tr>\n",
       "      <th>0</th>\n",
       "      <td>Adult</td>\n",
       "      <td>45</td>\n",
       "    </tr>\n",
       "    <tr>\n",
       "      <th>3</th>\n",
       "      <td>Adult</td>\n",
       "      <td>23</td>\n",
       "    </tr>\n",
       "    <tr>\n",
       "      <th>4</th>\n",
       "      <td>Adult</td>\n",
       "      <td>47</td>\n",
       "    </tr>\n",
       "    <tr>\n",
       "      <th>6</th>\n",
       "      <td>Adult</td>\n",
       "      <td>41</td>\n",
       "    </tr>\n",
       "    <tr>\n",
       "      <th>13</th>\n",
       "      <td>Adult</td>\n",
       "      <td>72</td>\n",
       "    </tr>\n",
       "  </tbody>\n",
       "</table>\n",
       "</div>"
      ],
      "text/plain": [
       "     Type  Age\n",
       "0   Adult   45\n",
       "3   Adult   23\n",
       "4   Adult   47\n",
       "6   Adult   41\n",
       "13  Adult   72"
      ]
     },
     "execution_count": 158,
     "metadata": {},
     "output_type": "execute_result"
    }
   ],
   "source": [
    "# View only the .head() of the Age and Type column filtered to only show Adults\n",
    "df_IC.loc[df_IC[\"Type\"]==\"Adult\", ['Type',\"Age\"]].head()"
   ]
  },
  {
   "cell_type": "code",
   "execution_count": 159,
   "metadata": {},
   "outputs": [
    {
     "data": {
      "text/plain": [
       "23.675675675675677"
      ]
     },
     "execution_count": 159,
     "metadata": {},
     "output_type": "execute_result"
    }
   ],
   "source": [
    "# Find the mean of the Age column. \n",
    "df_IC.Age.mean()"
   ]
  },
  {
   "cell_type": "code",
   "execution_count": 160,
   "metadata": {},
   "outputs": [
    {
     "data": {
      "text/plain": [
       "42.93333333333333"
      ]
     },
     "execution_count": 160,
     "metadata": {},
     "output_type": "execute_result"
    }
   ],
   "source": [
    "# Find the mean of the Ages of Adults\n",
    "df_IC[df_IC['Type']==\"Adult\"].Age.mean()"
   ]
  },
  {
   "cell_type": "code",
   "execution_count": 161,
   "metadata": {},
   "outputs": [
    {
     "name": "stdout",
     "output_type": "stream",
     "text": [
      "Customer    15\n",
      "Type        15\n",
      "Flavor      15\n",
      "Age         15\n",
      "Sales       15\n",
      "Store       15\n",
      "dtype: int64\n",
      "Customer    12\n",
      "Type        12\n",
      "Flavor      12\n",
      "Age         12\n",
      "Sales       11\n",
      "Store       12\n",
      "dtype: int64\n",
      "Customer    10\n",
      "Type        10\n",
      "Flavor      10\n",
      "Age         10\n",
      "Sales        9\n",
      "Store       10\n",
      "dtype: int64\n"
     ]
    }
   ],
   "source": [
    "# Find the counts of Adults, Teenagers, and Children\n",
    "print(df_IC[df_IC['Type']==\"Adult\"].count())\n",
    "print(df_IC[df_IC['Type']==\"Teenager\"].count())\n",
    "print(df_IC[df_IC['Type']==\"Child\"].count())"
   ]
  },
  {
   "cell_type": "code",
   "execution_count": 162,
   "metadata": {},
   "outputs": [
    {
     "data": {
      "text/html": [
       "<div>\n",
       "<style scoped>\n",
       "    .dataframe tbody tr th:only-of-type {\n",
       "        vertical-align: middle;\n",
       "    }\n",
       "\n",
       "    .dataframe tbody tr th {\n",
       "        vertical-align: top;\n",
       "    }\n",
       "\n",
       "    .dataframe thead th {\n",
       "        text-align: right;\n",
       "    }\n",
       "</style>\n",
       "<table border=\"1\" class=\"dataframe\">\n",
       "  <thead>\n",
       "    <tr style=\"text-align: right;\">\n",
       "      <th></th>\n",
       "      <th>Age</th>\n",
       "      <th>Sales</th>\n",
       "    </tr>\n",
       "  </thead>\n",
       "  <tbody>\n",
       "    <tr>\n",
       "      <th>count</th>\n",
       "      <td>37.000000</td>\n",
       "      <td>35.000000</td>\n",
       "    </tr>\n",
       "    <tr>\n",
       "      <th>mean</th>\n",
       "      <td>23.675676</td>\n",
       "      <td>3.520000</td>\n",
       "    </tr>\n",
       "    <tr>\n",
       "      <th>std</th>\n",
       "      <td>18.452723</td>\n",
       "      <td>0.546674</td>\n",
       "    </tr>\n",
       "    <tr>\n",
       "      <th>min</th>\n",
       "      <td>4.000000</td>\n",
       "      <td>2.500000</td>\n",
       "    </tr>\n",
       "    <tr>\n",
       "      <th>25%</th>\n",
       "      <td>6.000000</td>\n",
       "      <td>3.000000</td>\n",
       "    </tr>\n",
       "    <tr>\n",
       "      <th>50%</th>\n",
       "      <td>16.000000</td>\n",
       "      <td>3.750000</td>\n",
       "    </tr>\n",
       "    <tr>\n",
       "      <th>75%</th>\n",
       "      <td>40.000000</td>\n",
       "      <td>4.000000</td>\n",
       "    </tr>\n",
       "    <tr>\n",
       "      <th>max</th>\n",
       "      <td>72.000000</td>\n",
       "      <td>4.300000</td>\n",
       "    </tr>\n",
       "  </tbody>\n",
       "</table>\n",
       "</div>"
      ],
      "text/plain": [
       "             Age      Sales\n",
       "count  37.000000  35.000000\n",
       "mean   23.675676   3.520000\n",
       "std    18.452723   0.546674\n",
       "min     4.000000   2.500000\n",
       "25%     6.000000   3.000000\n",
       "50%    16.000000   3.750000\n",
       "75%    40.000000   4.000000\n",
       "max    72.000000   4.300000"
      ]
     },
     "execution_count": 162,
     "metadata": {},
     "output_type": "execute_result"
    }
   ],
   "source": [
    "# Find the descriptive summary statistics for the quantitative variables (use .describe())\n",
    "df_IC.describe()"
   ]
  },
  {
   "cell_type": "code",
   "execution_count": 163,
   "metadata": {},
   "outputs": [
    {
     "data": {
      "text/html": [
       "<div>\n",
       "<style scoped>\n",
       "    .dataframe tbody tr th:only-of-type {\n",
       "        vertical-align: middle;\n",
       "    }\n",
       "\n",
       "    .dataframe tbody tr th {\n",
       "        vertical-align: top;\n",
       "    }\n",
       "\n",
       "    .dataframe thead th {\n",
       "        text-align: right;\n",
       "    }\n",
       "</style>\n",
       "<table border=\"1\" class=\"dataframe\">\n",
       "  <thead>\n",
       "    <tr style=\"text-align: right;\">\n",
       "      <th></th>\n",
       "      <th>Type</th>\n",
       "      <th>Flavor</th>\n",
       "      <th>Store</th>\n",
       "    </tr>\n",
       "  </thead>\n",
       "  <tbody>\n",
       "    <tr>\n",
       "      <th>count</th>\n",
       "      <td>37</td>\n",
       "      <td>37</td>\n",
       "      <td>37</td>\n",
       "    </tr>\n",
       "    <tr>\n",
       "      <th>unique</th>\n",
       "      <td>3</td>\n",
       "      <td>2</td>\n",
       "      <td>3</td>\n",
       "    </tr>\n",
       "    <tr>\n",
       "      <th>top</th>\n",
       "      <td>Adult</td>\n",
       "      <td>Chocolate</td>\n",
       "      <td>Parker</td>\n",
       "    </tr>\n",
       "    <tr>\n",
       "      <th>freq</th>\n",
       "      <td>15</td>\n",
       "      <td>19</td>\n",
       "      <td>16</td>\n",
       "    </tr>\n",
       "  </tbody>\n",
       "</table>\n",
       "</div>"
      ],
      "text/plain": [
       "         Type     Flavor   Store\n",
       "count      37         37      37\n",
       "unique      3          2       3\n",
       "top     Adult  Chocolate  Parker\n",
       "freq       15         19      16"
      ]
     },
     "execution_count": 163,
     "metadata": {},
     "output_type": "execute_result"
    }
   ],
   "source": [
    "# Find the descriptive summary statistics for the qualitative variables (skip Customer) (use .describe())\n",
    "df_IC[[\"Type\", \"Flavor\", \"Store\"]].describe()"
   ]
  },
  {
   "cell_type": "markdown",
   "metadata": {},
   "source": [
    "### 3. Create more customized summaries of our Ice Cream customer data"
   ]
  },
  {
   "cell_type": "code",
   "execution_count": 164,
   "metadata": {},
   "outputs": [
    {
     "name": "stdout",
     "output_type": "stream",
     "text": [
      "The Age mean is: 23.68\n"
     ]
    }
   ],
   "source": [
    "# Print a sentence that includes the label of Age and also formats the mean Age with 2 decimals (for example, The Age mean is: XX.XX)\n",
    "print(f\"The Age mean is: {df_IC.Age.mean():.2f}\")"
   ]
  },
  {
   "cell_type": "code",
   "execution_count": 165,
   "metadata": {},
   "outputs": [
    {
     "data": {
      "text/plain": [
       "array(['Adult', 'Child', 'Teenager'], dtype=object)"
      ]
     },
     "execution_count": 165,
     "metadata": {},
     "output_type": "execute_result"
    }
   ],
   "source": [
    "# Output the unique values in the Type column\n",
    "df_IC.Type.unique()"
   ]
  },
  {
   "cell_type": "code",
   "execution_count": 166,
   "metadata": {},
   "outputs": [
    {
     "name": "stdout",
     "output_type": "stream",
     "text": [
      "The Types are: Adult Child Teenager \n"
     ]
    }
   ],
   "source": [
    "# Loop through the list of unique values of Type and put them in a single string \n",
    "# so that you can print a sentence that lists the unique values from the column Type. \n",
    "# (for example, The Types are: Adult Child Teenager)\n",
    "types = \"\"\n",
    "for i in df_IC.Type.unique():\n",
    "    types = types + i + \" \"\n",
    "print(f\"The Types are: {types}\")"
   ]
  },
  {
   "cell_type": "code",
   "execution_count": 167,
   "metadata": {},
   "outputs": [
    {
     "data": {
      "text/plain": [
       "Adult       15\n",
       "Teenager    12\n",
       "Child       10\n",
       "Name: Type, dtype: int64"
      ]
     },
     "execution_count": 167,
     "metadata": {},
     "output_type": "execute_result"
    }
   ],
   "source": [
    "# What are the values and counts for the Type column?\n",
    "df_IC.Type.value_counts()"
   ]
  },
  {
   "cell_type": "code",
   "execution_count": 168,
   "metadata": {},
   "outputs": [
    {
     "name": "stdout",
     "output_type": "stream",
     "text": [
      "12\n"
     ]
    }
   ],
   "source": [
    "# What is the count of the 2nd item in the value counts output?\n",
    "print(df_IC.Type.value_counts()[1])"
   ]
  },
  {
   "cell_type": "code",
   "execution_count": 169,
   "metadata": {},
   "outputs": [
    {
     "name": "stdout",
     "output_type": "stream",
     "text": [
      "Teenager\n"
     ]
    }
   ],
   "source": [
    "# What is the index name of the 2nd item in the value counts output?\n",
    "print(df_IC.Type.value_counts().index[1])"
   ]
  },
  {
   "cell_type": "code",
   "execution_count": 170,
   "metadata": {},
   "outputs": [
    {
     "name": "stdout",
     "output_type": "stream",
     "text": [
      "The Types are: Adult: 15 Child: 10 Teenager: 12 \n"
     ]
    }
   ],
   "source": [
    "# Loop through the value counts of Type and put them in a single string\n",
    "# so that you can print a sentence that lists the index name and counts from the column Type\n",
    "# (for example, The Type counts are:  Adult: 15 Teenager: 12 Child: 10)\n",
    "types = \"\"\n",
    "for i in df_IC.Type.unique():\n",
    "    types = types + i + \": \"+ str(df_IC.Type.value_counts()[i])+ \" \"\n",
    "print(f\"The Types are: {types}\")"
   ]
  },
  {
   "cell_type": "markdown",
   "metadata": {},
   "source": [
    "## 4. Create a function that inputs a column of numbers from a DataFrame and outputs a nicely formatted sentence with the mean.\n",
    "(for example, if you call: create_mean(df_IC['Age']) it will return: The mean of the entered data is: XX.XX)\n",
    "\n",
    "#### BONUS: Can you use the .name function to get the name of the column (really name of a Series) to put in the sentence?\n",
    "(for example, if you call: create_mean(df_IC['Age']) it will return: The mean of the Age is: XX.XX)"
   ]
  },
  {
   "cell_type": "code",
   "execution_count": 171,
   "metadata": {},
   "outputs": [
    {
     "data": {
      "text/plain": [
       "'The mean of the Age is: 23.675675675675677'"
      ]
     },
     "execution_count": 171,
     "metadata": {},
     "output_type": "execute_result"
    }
   ],
   "source": [
    "def create_mean(DataFrame):\n",
    "    name= DataFrame.name\n",
    "    mean= DataFrame.mean()\n",
    "    return(f\"The mean of the {name} is: {mean}\")\n",
    "\n",
    "create_mean(df_IC.Age)"
   ]
  },
  {
   "cell_type": "markdown",
   "metadata": {},
   "source": [
    "## 5. Create a function that inputs a column of qualitative data from a DataFrame and outputs a nicely formatted sentence with the index name and counts from that column\n",
    "(for example, if you call: create_value_counts(df_IC['Type']) it will return: The entered data counts are Adult: 15 Teenager: 12 Child: 10)\n",
    "\n",
    "### BONUS: Can you use the .name function to get the name of the column (really name of a Series) to put in the sentence?\n",
    "(for example, if you call: create_value_counts(df_IC['Type']) it will return: The Type counts are: Adult: 15 Teenager: 12 Child: 10)"
   ]
  },
  {
   "cell_type": "code",
   "execution_count": 172,
   "metadata": {},
   "outputs": [
    {
     "data": {
      "text/plain": [
       "'The Type counts are: Adult: 15 Child: 10 Teenager: 12 '"
      ]
     },
     "execution_count": 172,
     "metadata": {},
     "output_type": "execute_result"
    }
   ],
   "source": [
    "def create_value_counts(DataFrame):\n",
    "    types = \"\"\n",
    "    name = DataFrame.name\n",
    "    for i in DataFrame.unique():\n",
    "        types = types + i + \": \"+ str(DataFrame.value_counts()[i])+ \" \"\n",
    "    return(f\"The {name} counts are: {types}\")\n",
    "\n",
    "create_value_counts(df_IC.Type)"
   ]
  },
  {
   "cell_type": "code",
   "execution_count": null,
   "metadata": {},
   "outputs": [],
   "source": []
  }
 ],
 "metadata": {
  "kernelspec": {
   "display_name": "Python 3",
   "language": "python",
   "name": "python3"
  },
  "language_info": {
   "codemirror_mode": {
    "name": "ipython",
    "version": 3
   },
   "file_extension": ".py",
   "mimetype": "text/x-python",
   "name": "python",
   "nbconvert_exporter": "python",
   "pygments_lexer": "ipython3",
   "version": "3.8.8"
  }
 },
 "nbformat": 4,
 "nbformat_minor": 4
}
